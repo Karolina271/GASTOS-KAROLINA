{
  "nbformat": 4,
  "nbformat_minor": 0,
  "metadata": {
    "colab": {
      "provenance": [],
      "authorship_tag": "ABX9TyOBoMa0XbB+YMN9JT5sNShs",
      "include_colab_link": true
    },
    "kernelspec": {
      "name": "python3",
      "display_name": "Python 3"
    },
    "language_info": {
      "name": "python"
    }
  },
  "cells": [
    {
      "cell_type": "markdown",
      "metadata": {
        "id": "view-in-github",
        "colab_type": "text"
      },
      "source": [
        "<a href=\"https://colab.research.google.com/github/Karolina271/GASTOS-KAROLINA/blob/main/gastos_semanales.ipynb\" target=\"_parent\"><img src=\"https://colab.research.google.com/assets/colab-badge.svg\" alt=\"Open In Colab\"/></a>"
      ]
    },
    {
      "cell_type": "code",
      "execution_count": null,
      "metadata": {
        "colab": {
          "base_uri": "https://localhost:8080/"
        },
        "id": "U7kcooblUV9U",
        "outputId": "fba7df28-e09c-4356-bed6-599f4269d5f0"
      },
      "outputs": [
        {
          "output_type": "stream",
          "name": "stdout",
          "text": [
            "Este programa calculará el total de sus gastos mensuales en diferentes categorías.\n",
            "Ingrese el gasto en comida para la semana 1: 5000\n",
            "Ingrese el gasto en comida para la semana 2: 10000\n",
            "Ingrese el gasto en comida para la semana 3: 13000\n",
            "Ingrese el gasto en comida para la semana 4: 5000\n",
            "Ingrese el gasto en ropa para la semana 1: 0\n",
            "Ingrese el gasto en ropa para la semana 2: 50000\n",
            "Ingrese el gasto en ropa para la semana 3: 0\n",
            "Ingrese el gasto en ropa para la semana 4: 0\n",
            "Ingrese el gasto en transporte para la semana 1: 4600\n",
            "Ingrese el gasto en transporte para la semana 2: 4600\n",
            "Ingrese el gasto en transporte para la semana 3: 6000\n",
            "Ingrese el gasto en transporte para la semana 4: 4600\n",
            "Ingrese el gasto en salidas para la semana 1: 50000\n",
            "Ingrese el gasto en salidas para la semana 2: 0\n",
            "Ingrese el gasto en salidas para la semana 3: 30000\n",
            "Ingrese el gasto en salidas para la semana 4: 0\n",
            "El total de sus gastos mensuales es: 182800 pesos colombianos\n"
          ]
        }
      ],
      "source": [
        "def obtener_gastos_semanales():\n",
        "    try:\n",
        "        comida_semanal = [\n",
        "            int(input(f\"Ingrese el gasto en comida para la semana {i+1}: \")) for i in range(4)\n",
        "        ]\n",
        "        ropa_semanal = [\n",
        "            int(input(f\"Ingrese el gasto en ropa para la semana {i+1}: \")) for i in range(4)\n",
        "        ]\n",
        "        transporte_semanal = [\n",
        "            int(input(f\"Ingrese el gasto en transporte para la semana {i+1}: \")) for i in range(4)\n",
        "        ]\n",
        "        salidas_semanal = [\n",
        "            int(input(f\"Ingrese el gasto en salidas para la semana {i+1}: \")) for i in range(4)\n",
        "        ]\n",
        "    except ValueError:\n",
        "        print(\"Por favor, ingrese un número entero válido.\")\n",
        "        return obtener_gastos_semanales()\n",
        "\n",
        "    return comida_semanal, ropa_semanal, transporte_semanal, salidas_semanal\n",
        "\n",
        "def calcular_total_mes(gastos_semanales):\n",
        "    total_mes = sum(gastos_semanales[0]) + sum(gastos_semanales[1]) + sum(gastos_semanales[2]) + sum(gastos_semanales[3])\n",
        "    return total_mes\n",
        "\n",
        "def main():\n",
        "    print(\"Este programa calculará el total de sus gastos mensuales en diferentes categorías.\")\n",
        "    comida_semanal, ropa_semanal, transporte_semanal, salidas_semanal = obtener_gastos_semanales()\n",
        "\n",
        "    total_comida = sum(comida_semanal)\n",
        "    total_ropa = sum(ropa_semanal)\n",
        "    total_transporte = sum(transporte_semanal)\n",
        "    total_salidas = sum(salidas_semanal)\n",
        "\n",
        "    total_mes = total_comida + total_ropa + total_transporte + total_salidas\n",
        "\n",
        "    print(f\"El total de sus gastos mensuales es: {total_mes} pesos colombianos\")\n",
        "\n",
        "if __name__ == \"__main__\":\n",
        "    main()\n"
      ]
    },
    {
      "cell_type": "code",
      "source": [],
      "metadata": {
        "id": "WC40MWuUUrYP"
      },
      "execution_count": null,
      "outputs": []
    },
    {
      "cell_type": "code",
      "source": [
        "def obtener_gastos():\n",
        "    try:\n",
        "        gasto_comida = int(input(\"Ingrese el gasto en comida: \"))\n",
        "        gasto_ropa = int(input(\"Ingrese el gasto en ropa: \"))\n",
        "        gasto_transporte = int(input(\"Ingrese el gasto en transporte: \"))\n",
        "        gasto_salidas = int(input(\"Ingrese el gasto en salidas: \"))\n",
        "    except ValueError:\n",
        "        print(\"Por favor, ingrese un número entero válido.\")\n",
        "        return obtener_gastos()\n",
        "\n",
        "    return gasto_comida, gasto_ropa, gasto_transporte, gasto_salidas\n",
        "\n",
        "def calcular_total(gasto_comida, gasto_ropa, gasto_transporte, gasto_salidas):\n",
        "    return gasto_comida + gasto_ropa + gasto_transporte + gasto_salidas\n",
        "\n",
        "def main():\n",
        "    print(\"Este programa calculará el total de sus gastos.\")\n",
        "    gasto_comida, gasto_ropa, gasto_transporte, gasto_salidas = obtener_gastos()\n",
        "    total = calcular_total(gasto_comida, gasto_ropa, gasto_transporte, gasto_salidas)\n",
        "    print(f\"El total de sus gastos es: {total}\")\n",
        "\n",
        "if __name__ == \"__main__\":\n",
        "    main()"
      ],
      "metadata": {
        "colab": {
          "base_uri": "https://localhost:8080/"
        },
        "id": "kIFGIGmiUxRG",
        "outputId": "c5747246-8187-486c-b72f-6dea05ff396c"
      },
      "execution_count": null,
      "outputs": [
        {
          "output_type": "stream",
          "name": "stdout",
          "text": [
            "Este programa calculará el total de sus gastos.\n",
            "Ingrese el gasto en comida: 12000\n",
            "Ingrese el gasto en ropa: 13000\n",
            "Ingrese el gasto en transporte: 14000\n",
            "Ingrese el gasto en salidas: 16000\n",
            "El total de sus gastos es: 55000\n"
          ]
        }
      ]
    }
  ]
}